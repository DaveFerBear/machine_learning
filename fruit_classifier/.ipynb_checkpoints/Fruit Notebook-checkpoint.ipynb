{
 "cells": [
  {
   "cell_type": "code",
   "execution_count": 70,
   "metadata": {},
   "outputs": [],
   "source": [
    "# Dataset from: https://www.kaggle.com/litzar/fruits-classification\n",
    "from os import walk\n",
    "\n",
    "from keras.preprocessing.image import ImageDataGenerator, load_img, img_to_array, array_to_img\n",
    "from keras.models import Sequential\n",
    "from keras.layers import Conv2D, MaxPooling2D\n",
    "from keras.layers import Activation, Dropout, Flatten, Dense\n",
    "from keras import optimizers"
   ]
  },
  {
   "cell_type": "code",
   "execution_count": 71,
   "metadata": {},
   "outputs": [],
   "source": [
    "# Use data augmentation to create a larger training set\n",
    "def create_augmented_samples(data_generator, source_dir, output_dir, prefix, num_samples=10):\n",
    "    if num_samples < 1:\n",
    "        return\n",
    "    img = load_img(source_dir)\n",
    "    x = img_to_array(img)\n",
    "    x = x.reshape((1,) + x.shape)\n",
    "    i = 0\n",
    "    cur_fruit = 'Apricot'\n",
    "    for batch in datagen.flow(x, batch_size=1, save_to_dir='fruits-datagen',\n",
    "                              save_prefix=prefix, save_format='jpeg'):\n",
    "        i += 1\n",
    "        if i > num_samples:\n",
    "            break"
   ]
  },
  {
   "cell_type": "code",
   "execution_count": 72,
   "metadata": {},
   "outputs": [],
   "source": [
    "training_dir = 'fruits-360/Training/'\n",
    "fruit_names = [x[0].split('/')[-1] for x in walk(training_dir) if x[0].split('/')[-1] is not '']\n",
    "\n",
    "datagen = ImageDataGenerator(\n",
    "        rotation_range=40,\n",
    "        width_shift_range=0.2,\n",
    "        height_shift_range=0.2,\n",
    "        rescale=1./255,\n",
    "        shear_range=0.2,\n",
    "        zoom_range=0.2,\n",
    "        horizontal_flip=True,\n",
    "        fill_mode='nearest')\n",
    "\n",
    "for fruit in fruit_names:\n",
    "    for y in [x[-1] for x in walk(training_dir+fruit)]:\n",
    "        for z in y:\n",
    "            training_ex_dir = training_dir+'/'.join([fruit, z])\n",
    "            create_augmented_samples(data_generator=datagen,\n",
    "                                     source_dir=training_ex_dir,\n",
    "                                     output_dir='fruits-datagen/'+fruit,\n",
    "                                     prefix=fruit,\n",
    "                                     num_samples=0)"
   ]
  },
  {
   "cell_type": "code",
   "execution_count": 73,
   "metadata": {},
   "outputs": [],
   "source": [
    "f = []\n",
    "for (dirpath, dirnames, filenames) in walk('fruits-datagen'):\n",
    "    f.extend(filenames)"
   ]
  },
  {
   "cell_type": "code",
   "execution_count": 74,
   "metadata": {},
   "outputs": [],
   "source": [
    "model = Sequential()\n",
    "\n",
    "# Convoluation Layers\n",
    "model.add(Conv2D(32, (3, 3), input_shape=(150, 150, 3)))\n",
    "model.add(Activation('relu'))\n",
    "model.add(MaxPooling2D(data_format=\"channels_first\", pool_size=(2, 2)))\n",
    "\n",
    "model.add(Conv2D(32, (3, 3), data_format=\"channels_first\"))\n",
    "model.add(Activation('relu'))\n",
    "model.add(MaxPooling2D(pool_size=(2, 2)))\n",
    "\n",
    "model.add(Conv2D(64, (3, 3)))\n",
    "model.add(Activation('relu'))\n",
    "model.add(MaxPooling2D(pool_size=(2, 2)))\n",
    "\n",
    "#Fully Connected Layers\n",
    "model.add(Flatten())\n",
    "model.add(Dense(128))\n",
    "model.add(Activation('relu'))\n",
    "model.add(Dropout(0.5))\n",
    "model.add(Dense(60, activation='softmax'))\n",
    "\n",
    "#Optimizers + Compile\n",
    "adam_opt = optimizers.Adam(lr=0.001, beta_1=0.9, beta_2=0.999, epsilon=None, decay=0.0, amsgrad=False)\n",
    "model.compile(loss='categorical_crossentropy',\n",
    "              optimizer=optimizers.RMSprop(lr=.001),\n",
    "              metrics=['accuracy'])"
   ]
  },
  {
   "cell_type": "code",
   "execution_count": 75,
   "metadata": {},
   "outputs": [
    {
     "name": "stdout",
     "output_type": "stream",
     "text": [
      "Found 28736 images belonging to 60 classes.\n",
      "Found 9673 images belonging to 60 classes.\n"
     ]
    }
   ],
   "source": [
    "batch_size = 16\n",
    "\n",
    "train_datagen = ImageDataGenerator(\n",
    "        rescale=1./255,\n",
    "        shear_range=0.2,\n",
    "        zoom_range=0.2,\n",
    "        horizontal_flip=True)\n",
    "\n",
    "test_datagen = ImageDataGenerator(rescale=1./255)\n",
    "\n",
    "train_generator = train_datagen.flow_from_directory(\n",
    "        'fruits-360/Training',  # target directory\n",
    "        target_size=(150, 150),\n",
    "        batch_size=batch_size,\n",
    "        class_mode='categorical')\n",
    "\n",
    "validation_generator = test_datagen.flow_from_directory(\n",
    "        'fruits-360/Validation',\n",
    "        target_size=(150, 150),\n",
    "        batch_size=batch_size,\n",
    "        class_mode='categorical')"
   ]
  },
  {
   "cell_type": "code",
   "execution_count": null,
   "metadata": {},
   "outputs": [
    {
     "name": "stdout",
     "output_type": "stream",
     "text": [
      "Epoch 1/50\n",
      "125/125 [==============================] - 154s 1s/step - loss: 4.0992 - acc: 0.0475 - val_loss: 3.6435 - val_acc: 0.1237\n",
      "Epoch 2/50\n",
      "125/125 [==============================] - 138s 1s/step - loss: 3.3027 - acc: 0.1530 - val_loss: 2.3824 - val_acc: 0.3650\n",
      "Epoch 3/50\n",
      "125/125 [==============================] - 142s 1s/step - loss: 2.5583 - acc: 0.2645 - val_loss: 1.7856 - val_acc: 0.4913\n",
      "Epoch 4/50\n",
      "125/125 [==============================] - 153s 1s/step - loss: 1.9884 - acc: 0.3980 - val_loss: 1.1345 - val_acc: 0.7338\n",
      "Epoch 5/50\n",
      "125/125 [==============================] - 147s 1s/step - loss: 1.6430 - acc: 0.5075 - val_loss: 0.8217 - val_acc: 0.7913\n",
      "Epoch 6/50\n",
      "125/125 [==============================] - 150s 1s/step - loss: 1.3428 - acc: 0.5830 - val_loss: 0.7125 - val_acc: 0.7863\n",
      "Epoch 7/50\n",
      "125/125 [==============================] - 172s 1s/step - loss: 1.1727 - acc: 0.6395 - val_loss: 0.6379 - val_acc: 0.7950\n",
      "Epoch 8/50\n",
      "125/125 [==============================] - 170s 1s/step - loss: 1.0194 - acc: 0.6700 - val_loss: 0.4500 - val_acc: 0.8750\n",
      "Epoch 9/50\n",
      "125/125 [==============================] - 154s 1s/step - loss: 0.9340 - acc: 0.6975 - val_loss: 0.4533 - val_acc: 0.8500\n",
      "Epoch 10/50\n",
      "125/125 [==============================] - 140s 1s/step - loss: 0.8740 - acc: 0.7240 - val_loss: 0.2985 - val_acc: 0.9213\n",
      "Epoch 11/50\n",
      "125/125 [==============================] - 148s 1s/step - loss: 0.7622 - acc: 0.7345 - val_loss: 0.3133 - val_acc: 0.9087\n",
      "Epoch 12/50\n",
      "125/125 [==============================] - 160s 1s/step - loss: 0.7166 - acc: 0.7655 - val_loss: 0.2873 - val_acc: 0.9150\n",
      "Epoch 13/50\n",
      "125/125 [==============================] - 120s 958ms/step - loss: 0.6633 - acc: 0.7830 - val_loss: 0.3111 - val_acc: 0.9087\n",
      "Epoch 14/50\n",
      "125/125 [==============================] - 120s 956ms/step - loss: 0.5844 - acc: 0.8135 - val_loss: 0.2014 - val_acc: 0.9313\n",
      "Epoch 15/50\n",
      "125/125 [==============================] - 142s 1s/step - loss: 0.6291 - acc: 0.7985 - val_loss: 0.2626 - val_acc: 0.9012\n",
      "Epoch 16/50\n",
      "125/125 [==============================] - 148s 1s/step - loss: 0.5272 - acc: 0.8230 - val_loss: 0.2275 - val_acc: 0.9287\n",
      "Epoch 17/50\n",
      "125/125 [==============================] - 144s 1s/step - loss: 0.5041 - acc: 0.8350 - val_loss: 0.2325 - val_acc: 0.9250\n",
      "Epoch 18/50\n",
      "125/125 [==============================] - 141s 1s/step - loss: 0.4933 - acc: 0.8470 - val_loss: 0.3087 - val_acc: 0.8975\n",
      "Epoch 19/50\n",
      "125/125 [==============================] - 153s 1s/step - loss: 0.4676 - acc: 0.8520 - val_loss: 0.2190 - val_acc: 0.9150\n",
      "Epoch 20/50\n",
      "125/125 [==============================] - 162s 1s/step - loss: 0.4469 - acc: 0.8530 - val_loss: 0.2003 - val_acc: 0.9300\n",
      "Epoch 21/50\n",
      "125/125 [==============================] - 171s 1s/step - loss: 0.4544 - acc: 0.8540 - val_loss: 0.1813 - val_acc: 0.9475\n",
      "Epoch 22/50\n",
      " 61/125 [=============>................] - ETA: 1:14 - loss: 0.4255 - acc: 0.8668"
     ]
    }
   ],
   "source": [
    "model.fit_generator(\n",
    "        train_generator,\n",
    "        steps_per_epoch=2000 // batch_size,\n",
    "        epochs=50,\n",
    "        validation_data=validation_generator,\n",
    "        validation_steps=800 // batch_size)\n",
    "model.save_weights('fifty_epoch.h5')"
   ]
  },
  {
   "cell_type": "code",
   "execution_count": null,
   "metadata": {},
   "outputs": [],
   "source": [
    "model.summary()"
   ]
  },
  {
   "cell_type": "code",
   "execution_count": null,
   "metadata": {},
   "outputs": [],
   "source": []
  }
 ],
 "metadata": {
  "kernelspec": {
   "display_name": "Python 2",
   "language": "python",
   "name": "python2"
  },
  "language_info": {
   "codemirror_mode": {
    "name": "ipython",
    "version": 2
   },
   "file_extension": ".py",
   "mimetype": "text/x-python",
   "name": "python",
   "nbconvert_exporter": "python",
   "pygments_lexer": "ipython2",
   "version": "2.7.10"
  }
 },
 "nbformat": 4,
 "nbformat_minor": 2
}
